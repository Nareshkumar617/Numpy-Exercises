{
  "cells": [
    {
      "cell_type": "markdown",
      "source": [],
      "metadata": {
        "id": "BYB4YE3uTlGu"
      }
    },
    {
      "cell_type": "markdown",
      "metadata": {
        "id": "vUzNaMfFTirY"
      },
      "source": [
        "# Numpy\n",
        "\n"
      ]
    },
    {
      "cell_type": "markdown",
      "metadata": {
        "id": "0zZmCaPYTire"
      },
      "source": [
        "#### 1. Import the numpy package under the name `np` (★☆☆) \n",
        "(**hint**: import … as …)"
      ]
    },
    {
      "cell_type": "code",
      "execution_count": null,
      "metadata": {
        "collapsed": true,
        "id": "x1jGU8IDTirf"
      },
      "outputs": [],
      "source": [
        "import numpy as np"
      ]
    },
    {
      "cell_type": "markdown",
      "metadata": {
        "id": "xu_a6n2GTirg"
      },
      "source": [
        "#### 2. Print the numpy version and the configuration (★☆☆) \n",
        "(**hint**: np.\\_\\_version\\_\\_, np.show\\_config)"
      ]
    },
    {
      "cell_type": "code",
      "execution_count": null,
      "metadata": {
        "id": "gnMtd2EaTirh"
      },
      "outputs": [],
      "source": [
        "import numpy as np\n",
        "np.__version__\n",
        "np.show_config()"
      ]
    },
    {
      "cell_type": "markdown",
      "metadata": {
        "id": "lVVK-Zd6Tirh"
      },
      "source": [
        "#### 3. Create a null vector of size 10 (★☆☆) \n",
        "(**hint**: np.zeros)"
      ]
    },
    {
      "cell_type": "code",
      "execution_count": null,
      "metadata": {
        "id": "tV61FAZ5Tiri"
      },
      "outputs": [],
      "source": [
        "import numpy as np\n",
        "t = np.zeros(10)\n",
        "print(t)"
      ]
    },
    {
      "cell_type": "markdown",
      "metadata": {
        "id": "JLP47Hl_Tirj"
      },
      "source": [
        "#### 4.  How to find the memory size of any array (★☆☆) \n",
        "(**hint**: size, itemsize)"
      ]
    },
    {
      "cell_type": "code",
      "execution_count": null,
      "metadata": {
        "id": "iI6NMbqgTirj"
      },
      "outputs": [],
      "source": [
        "import numpy as np\n",
        "q = np.array([1,2,3])\n",
        "print(q.size)\n",
        "print(q.itemsize)\n",
        "print(\"memory size of array: \" , q.size * q.itemsize)"
      ]
    },
    {
      "cell_type": "markdown",
      "metadata": {
        "id": "tiLiWvPvTirk"
      },
      "source": [
        "#### 5.  How to get the documentation of the numpy add function from the command line? (★☆☆) \n",
        "(**hint**: np.info)"
      ]
    },
    {
      "cell_type": "code",
      "execution_count": null,
      "metadata": {
        "collapsed": true,
        "id": "SwN4WXB0Tirl"
      },
      "outputs": [],
      "source": [
        "import numpy as np\n",
        "print(np.info(np.add))"
      ]
    },
    {
      "cell_type": "markdown",
      "metadata": {
        "id": "DtgUrH64Tirl"
      },
      "source": [
        "#### 6.  Create a null vector of size 10 but the fifth value which is 1 (★☆☆) \n",
        "(**hint**: array\\[4\\])"
      ]
    },
    {
      "cell_type": "code",
      "execution_count": null,
      "metadata": {
        "id": "u6TfqhXvTirm"
      },
      "outputs": [],
      "source": [
        "import numpy as np\n",
        "w = np.zeros(10)\n",
        "w[4] = 1\n",
        "print(w)"
      ]
    },
    {
      "cell_type": "markdown",
      "metadata": {
        "id": "uxvB6xIzTirn"
      },
      "source": [
        "#### 7.  Create a vector with values ranging from 10 to 49 (★☆☆) \n",
        "(**hint**: np.arange)"
      ]
    },
    {
      "cell_type": "code",
      "execution_count": null,
      "metadata": {
        "id": "iBM63TccTirn"
      },
      "outputs": [],
      "source": [
        "import numpy as np\n",
        "e = np.arange(10,50)\n",
        "print(e)"
      ]
    },
    {
      "cell_type": "markdown",
      "metadata": {
        "id": "c2zX9PLOTiro"
      },
      "source": [
        "#### 8.  Reverse a vector (first element becomes last) (★☆☆) \n",
        "(**hint**: array\\[::-1\\])"
      ]
    },
    {
      "cell_type": "code",
      "execution_count": null,
      "metadata": {
        "id": "FAJhsOoOTiro",
        "colab": {
          "base_uri": "https://localhost:8080/"
        },
        "outputId": "95624dd0-3298-41b0-97fc-30b4b3cac93d"
      },
      "outputs": [
        {
          "output_type": "stream",
          "name": "stdout",
          "text": [
            "[12 11  8  7  6  5]\n"
          ]
        }
      ],
      "source": [
        "import numpy as np\n",
        "w = np.array([5,6,7,8,11,12])\n",
        "print(w[::-1])\n"
      ]
    },
    {
      "cell_type": "markdown",
      "metadata": {
        "id": "sQJwTLVNTiro"
      },
      "source": [
        "#### 9.  Create a 3x3 matrix with values ranging from 0 to 8 (★☆☆) \n",
        "(**hint**: reshape)"
      ]
    },
    {
      "cell_type": "code",
      "execution_count": null,
      "metadata": {
        "id": "DCasYNiYTirp",
        "colab": {
          "base_uri": "https://localhost:8080/"
        },
        "outputId": "f65066be-ab7e-4535-c2b1-a26d321095b7"
      },
      "outputs": [
        {
          "output_type": "stream",
          "name": "stdout",
          "text": [
            "[[0 1 2]\n",
            " [3 4 5]\n",
            " [6 7 8]]\n"
          ]
        }
      ],
      "source": [
        "import numpy as np\n",
        "t = np.arange(0,9).reshape(3,3)\n",
        "print(t)"
      ]
    },
    {
      "cell_type": "markdown",
      "metadata": {
        "id": "hihhh0kaTirp"
      },
      "source": [
        "#### 10. Find indices of non-zero elements from \\[1,2,0,0,4,0\\] (★☆☆) \n",
        "(**hint**: np.nonzero)"
      ]
    },
    {
      "cell_type": "code",
      "execution_count": null,
      "metadata": {
        "id": "v4pn0Rr1Tirq",
        "colab": {
          "base_uri": "https://localhost:8080/"
        },
        "outputId": "952ce499-f7e3-4b78-cabf-a70273450c79"
      },
      "outputs": [
        {
          "output_type": "stream",
          "name": "stdout",
          "text": [
            "(array([0, 1, 4]),)\n"
          ]
        }
      ],
      "source": [
        "import numpy as np\n",
        "x = np.array([1,2,0,0,4,0])\n",
        "y = np.nonzero(x)\n",
        "print(y)"
      ]
    },
    {
      "cell_type": "markdown",
      "metadata": {
        "id": "RjlI_oogTirq"
      },
      "source": [
        "#### 11. Create a 3x3 identity matrix (★☆☆) \n",
        "(**hint**: np.eye)"
      ]
    },
    {
      "cell_type": "code",
      "execution_count": null,
      "metadata": {
        "id": "Dm3dEGzATirq"
      },
      "outputs": [],
      "source": [
        "import numpy as np\n",
        "y = np.eye(3,3)\n",
        "print(y)"
      ]
    },
    {
      "cell_type": "markdown",
      "metadata": {
        "id": "W2ZurV9sTirr"
      },
      "source": [
        "#### 12. Create a 3x3x3 array with random values (★☆☆) \n",
        "(**hint**: np.random.random)"
      ]
    },
    {
      "cell_type": "code",
      "execution_count": null,
      "metadata": {
        "collapsed": true,
        "id": "fJ1V2cmBTirr",
        "colab": {
          "base_uri": "https://localhost:8080/"
        },
        "outputId": "dc13aad5-2d06-413d-9ae9-0a549b05bc73"
      },
      "outputs": [
        {
          "output_type": "stream",
          "name": "stdout",
          "text": [
            "[[[0.21344858 0.59455962 0.07677233]\n",
            "  [0.16722468 0.59195979 0.70835389]\n",
            "  [0.17885285 0.78868171 0.03071955]]\n",
            "\n",
            " [[0.50941107 0.38124442 0.33451818]\n",
            "  [0.07073899 0.69427045 0.92009017]\n",
            "  [0.37297814 0.1570958  0.16606959]]\n",
            "\n",
            " [[0.55598735 0.58158333 0.96017116]\n",
            "  [0.12731489 0.2461681  0.43301039]\n",
            "  [0.13944039 0.47425188 0.04846558]]]\n"
          ]
        }
      ],
      "source": [
        "import numpy as np\n",
        "o = np.random.random((3,3,3))\n",
        "print(o)"
      ]
    },
    {
      "cell_type": "markdown",
      "metadata": {
        "id": "RNzIH8i9Tirr"
      },
      "source": [
        "#### 13. Create a 10x10 array with random values and find the minimum and maximum values (★☆☆) \n",
        "(**hint**: min, max)"
      ]
    },
    {
      "cell_type": "code",
      "execution_count": null,
      "metadata": {
        "id": "oqlMpp2HTirs"
      },
      "outputs": [],
      "source": [
        "import numpy as np\n",
        "f = np.random.random((10,10))\n",
        "print(f.min())\n",
        "print(f.max())\n"
      ]
    },
    {
      "cell_type": "markdown",
      "metadata": {
        "id": "RqBOqDqlTirs"
      },
      "source": [
        "#### 14. Create a random vector of size 30 and find the mean value (★☆☆) \n",
        "(**hint**: mean)"
      ]
    },
    {
      "cell_type": "code",
      "execution_count": null,
      "metadata": {
        "id": "gtef9Iv-Tirs",
        "colab": {
          "base_uri": "https://localhost:8080/"
        },
        "outputId": "14e1c9bb-cde0-4a6c-e531-b730d81de046"
      },
      "outputs": [
        {
          "output_type": "stream",
          "name": "stdout",
          "text": [
            "0.534073211488419\n"
          ]
        }
      ],
      "source": [
        "import numpy as np\n",
        "g = np.random.random(30)\n",
        "print(g.mean())"
      ]
    },
    {
      "cell_type": "markdown",
      "metadata": {
        "id": "oVAp4lg2Tirs"
      },
      "source": [
        "#### 15. Create a 2d array with 1 on the border and 0 inside (★☆☆) \n",
        "(**hint**: array\\[1:-1, 1:-1\\])"
      ]
    },
    {
      "cell_type": "code",
      "execution_count": null,
      "metadata": {
        "id": "cc5fhGHtTirt"
      },
      "outputs": [],
      "source": [
        "import numpy as np\n",
        "d = np.ones((5,5))\n",
        "d[1:-1, 1:-1] = 0\n",
        "print(d)\n"
      ]
    },
    {
      "cell_type": "markdown",
      "metadata": {
        "id": "rlIFyKw9Tirt"
      },
      "source": [
        "#### 16. How to add a border (filled with 0's) around an existing array? (★☆☆) \n",
        "(**hint**: np.pad)"
      ]
    },
    {
      "cell_type": "code",
      "execution_count": null,
      "metadata": {
        "id": "RVTqMP1oTirt",
        "colab": {
          "base_uri": "https://localhost:8080/"
        },
        "outputId": "d69066d9-d1bb-4970-d02a-46ba12c4c084"
      },
      "outputs": [
        {
          "output_type": "stream",
          "name": "stdout",
          "text": [
            "[[0. 0. 0. 0.]\n",
            " [0. 1. 1. 0.]\n",
            " [0. 1. 1. 0.]\n",
            " [0. 0. 0. 0.]]\n"
          ]
        }
      ],
      "source": [
        "import numpy as np\n",
        "d = np.ones((2,2))\n",
        "d = np.pad(d, pad_width=1, mode='constant', constant_values=0)\n",
        "print(d)"
      ]
    },
    {
      "cell_type": "markdown",
      "metadata": {
        "id": "sJNvqsO8Tirt"
      },
      "source": [
        "#### 17. What is the result of the following expression? (★☆☆) \n",
        "(**hint**: NaN = not a number, inf = infinity)"
      ]
    },
    {
      "cell_type": "markdown",
      "metadata": {
        "id": "lLVTESleTiru"
      },
      "source": [
        "```python\n",
        "0 * np.nan\n",
        "np.nan == np.nan\n",
        "np.inf > np.nan\n",
        "np.nan - np.nan\n",
        "0.3 == 3 * 0.1\n",
        "```"
      ]
    },
    {
      "cell_type": "code",
      "execution_count": null,
      "metadata": {
        "id": "4RTa0dtoTiru"
      },
      "outputs": [],
      "source": [
        "print(0*np.nan)\n",
        "print(np.nan == np.nan)\n",
        "print(np.inf > np.nan)\n",
        "print(np.nan - np.nan)\n",
        "print(0.3 == 3*0.1)\n"
      ]
    },
    {
      "cell_type": "markdown",
      "metadata": {
        "id": "FvlkPLY_Tiru"
      },
      "source": [
        "#### 18. Create a 5x5 matrix with values 1,2,3,4 just below the diagonal (★☆☆) \n",
        "(**hint**: np.diag)"
      ]
    },
    {
      "cell_type": "code",
      "execution_count": null,
      "metadata": {
        "id": "1czj2GojTirv"
      },
      "outputs": [],
      "source": [
        "import numpy as np\n",
        "k = np.diag([1,2,3,4,5])\n",
        "print(k)\n"
      ]
    },
    {
      "cell_type": "markdown",
      "metadata": {
        "id": "Rhxfb860Tirv"
      },
      "source": [
        "#### 19. Create a 8x8 matrix and fill it with a checkerboard pattern (★☆☆) \n",
        "(**hint**: array\\[::2\\])"
      ]
    },
    {
      "cell_type": "code",
      "execution_count": null,
      "metadata": {
        "id": "iErcdp8_Tirv"
      },
      "outputs": [],
      "source": [
        "import numpy as np\n",
        "v = np.ones((3,3))\n",
        "v = np.zeros((8,8),dtype=int)\n",
        "v[1::2, ::2] = 1\n",
        "v[::2, 1::2] = 1\n",
        "print(v)"
      ]
    },
    {
      "cell_type": "markdown",
      "metadata": {
        "id": "DkcKs5quTirw"
      },
      "source": [
        "#### 20. Consider a (6,7,8) shape array, what is the index (x,y,z) of the 100th element? \n",
        "(**hint**: np.unravel_index)"
      ]
    },
    {
      "cell_type": "code",
      "execution_count": null,
      "metadata": {
        "id": "s_etdKNHTirw",
        "colab": {
          "base_uri": "https://localhost:8080/"
        },
        "outputId": "01798318-ceca-4e78-8b9a-df44cc69dfc4"
      },
      "outputs": [
        {
          "output_type": "stream",
          "name": "stdout",
          "text": [
            "(1, 5, 4)\n"
          ]
        }
      ],
      "source": [
        "print(np.unravel_index(100, (6,7,8)))"
      ]
    },
    {
      "cell_type": "markdown",
      "metadata": {
        "id": "0uzkGu6KTirw"
      },
      "source": [
        "#### 21. Create a checkerboard 8x8 matrix using the tile function (★☆☆) \n",
        "(**hint**: np.tile)"
      ]
    },
    {
      "cell_type": "code",
      "execution_count": null,
      "metadata": {
        "id": "Nb6jJZZSTirx"
      },
      "outputs": [],
      "source": [
        "import numpy as np\n",
        "a = np.array([0,1])\n",
        "repetition = (8,4)\n",
        "c = np.tile(a,repetition)\n",
        "print(c)"
      ]
    },
    {
      "cell_type": "markdown",
      "metadata": {
        "id": "oNoQXDxjTirx"
      },
      "source": [
        "#### 22. Normalize a 5x5 random matrix (★☆☆) \n",
        "(**hint**: (x - min) / (max - min))"
      ]
    },
    {
      "cell_type": "code",
      "execution_count": null,
      "metadata": {
        "id": "Te-9C3RUTirx"
      },
      "outputs": [],
      "source": [
        "import numpy as np\n",
        "h = np.random.random((5,5))\n",
        "hmax , hmin = h.max(), h.min()\n",
        "h = (h - hmin)/(hmax - hmin)\n",
        "print(h)"
      ]
    },
    {
      "cell_type": "markdown",
      "metadata": {
        "id": "401sced-Tirx"
      },
      "source": [
        "#### 23. Create a custom dtype that describes a color as four unsigned bytes (RGBA) (★☆☆) \n",
        "(**hint**: np.dtype)"
      ]
    },
    {
      "cell_type": "code",
      "execution_count": null,
      "metadata": {
        "collapsed": true,
        "id": "xaOD_flWTiry"
      },
      "outputs": [],
      "source": [
        "import numpy as np\n",
        "cl = np.dtype([ ('r', np.ubyte, 1), ('g', np.ubyte, 1 ),\n",
        "      ('b', np.ubyte, 1 ),('a', np.ubyte, 1 ) ])\n",
        "print(cl)"
      ]
    },
    {
      "cell_type": "markdown",
      "metadata": {
        "id": "nNlDNBJITiry"
      },
      "source": [
        "#### 24. Multiply a 5x3 matrix by a 3x2 matrix (real matrix product) (★☆☆) \n",
        "(**hint**: np.dot | @)"
      ]
    },
    {
      "cell_type": "code",
      "execution_count": null,
      "metadata": {
        "id": "P8Fa72QTTiry"
      },
      "outputs": [],
      "source": [
        "import numpy as np\n",
        "z = np.dot(np.ones( (5,3)), np.ones((3,2)) )\n",
        "print(z)\n"
      ]
    },
    {
      "cell_type": "markdown",
      "metadata": {
        "id": "GNvlHCOrTiry"
      },
      "source": [
        "#### 25. Given a 1D array, negate all elements which are between 3 and 8, in place. (★☆☆) \n",
        "(**hint**: >, <=)"
      ]
    },
    {
      "cell_type": "code",
      "execution_count": null,
      "metadata": {
        "id": "xQGd9YcTTirz"
      },
      "outputs": [],
      "source": [
        "import numpy as np\n",
        "w = np.arange(11)\n",
        "w[ (3 < w) & (w < 8)] *= -1\n",
        "print(w)\n"
      ]
    },
    {
      "cell_type": "markdown",
      "metadata": {
        "id": "TDROnAIWTirz"
      },
      "source": [
        "#### 26. What is the output of the following script? (★☆☆) \n",
        "(**hint**: np.sum)"
      ]
    },
    {
      "cell_type": "markdown",
      "metadata": {
        "id": "WxvjakxOTirz"
      },
      "source": [
        "```python\n",
        "# Author: Jake VanderPlas\n",
        "\n",
        "print(sum(range(5),-1))\n",
        "from numpy import *\n",
        "print(sum(range(5),-1))\n",
        "```"
      ]
    },
    {
      "cell_type": "code",
      "execution_count": null,
      "metadata": {
        "id": "MMBiZSijTirz",
        "colab": {
          "base_uri": "https://localhost:8080/"
        },
        "outputId": "9880a380-8a22-42f4-e009-384ff0f119c8"
      },
      "outputs": [
        {
          "output_type": "stream",
          "name": "stdout",
          "text": [
            "9\n",
            "10\n"
          ]
        }
      ],
      "source": [
        "import numpy as np\n",
        "print( sum(range(5), -1))\n",
        "from numpy import *\n",
        "print( sum(range(5), -1))\n",
        " "
      ]
    },
    {
      "cell_type": "markdown",
      "metadata": {
        "id": "SQgmjdHsTir0"
      },
      "source": [
        "#### 27. Consider an integer vector Z, which of these expressions are legal? (★☆☆)"
      ]
    },
    {
      "cell_type": "markdown",
      "metadata": {
        "id": "-9-PQDCZTir0"
      },
      "source": [
        "```python\n",
        "Z**Z\n",
        "2 << Z >> 2\n",
        "Z <- Z\n",
        "1j*Z\n",
        "Z/1/1\n",
        "Z<Z>Z\n",
        "```"
      ]
    },
    {
      "cell_type": "code",
      "execution_count": 7,
      "metadata": {
        "id": "iuk6tNYVTir0",
        "colab": {
          "base_uri": "https://localhost:8080/"
        },
        "outputId": "d27c7dd1-a29d-4349-f575-7fe544d6eb65"
      },
      "outputs": [
        {
          "output_type": "execute_result",
          "data": {
            "text/plain": [
              "array([0., 1., 2.])"
            ]
          },
          "metadata": {},
          "execution_count": 7
        }
      ],
      "source": [
        "import numpy as np\n",
        "Z = np.arange(3)\n",
        "Z**Z\n",
        "2 << Z >> 2\n",
        "Z <  -Z\n",
        "1j * Z\n",
        "Z/1/1\n"
      ]
    },
    {
      "cell_type": "markdown",
      "metadata": {
        "id": "a-KFMG20Tir0"
      },
      "source": [
        "#### 28. What are the result of the following expressions?"
      ]
    },
    {
      "cell_type": "markdown",
      "metadata": {
        "id": "nNLDMX-fTir0"
      },
      "source": [
        "```python\n",
        "np.array(0) / np.array(0)\n",
        "np.array(0) // np.array(0)\n",
        "np.array([np.nan]).astype(int).astype(float)\n",
        "```"
      ]
    },
    {
      "cell_type": "code",
      "execution_count": null,
      "metadata": {
        "id": "7krV73yvTir1"
      },
      "outputs": [],
      "source": [
        "print(np.array(0) / np.array(0))\n",
        "print(np.array(0) // np.array(0))\n",
        "print(np.array( [np.nan]).astype(int).astype(float) )\n"
      ]
    },
    {
      "cell_type": "markdown",
      "metadata": {
        "id": "fK3AjDK0Tir1"
      },
      "source": [
        "#### 29. How to round away from zero a float array ? (★☆☆) \n",
        "(**hint**: np.uniform, np.copysign, np.ceil, np.abs)"
      ]
    },
    {
      "cell_type": "code",
      "execution_count": null,
      "metadata": {
        "id": "yW7kbiAbTir1",
        "colab": {
          "base_uri": "https://localhost:8080/"
        },
        "outputId": "a85771aa-d84f-4a98-dec0-7e32a1f0b945"
      },
      "outputs": [
        {
          "output_type": "stream",
          "name": "stdout",
          "text": [
            "[-1.  6.  5. -9. -4.  5. -8.  3. -6. -5.]\n"
          ]
        }
      ],
      "source": [
        "import numpy as np\n",
        "j = np.random.uniform(-10,+10,10)\n",
        "print(np.copysign (np.ceil(np.abs(j)) , j )) "
      ]
    },
    {
      "cell_type": "markdown",
      "metadata": {
        "id": "mVmwER0pTir1"
      },
      "source": [
        "#### 30. How to find common values between two arrays? (★☆☆) \n",
        "(**hint**: np.intersect1d)"
      ]
    },
    {
      "cell_type": "code",
      "execution_count": null,
      "metadata": {
        "id": "Jpaaqmt9Tir1",
        "colab": {
          "base_uri": "https://localhost:8080/"
        },
        "outputId": "c0e707e7-7469-42d9-9dd5-c4d5621e7a13"
      },
      "outputs": [
        {
          "output_type": "stream",
          "name": "stdout",
          "text": [
            "[1 5]\n"
          ]
        }
      ],
      "source": [
        "import numpy as np\n",
        "u1 = np.array([1,2,5,6])\n",
        "u2 = np.array([1,7,5,4])\n",
        "print(np.intersect1d(u1,u2))"
      ]
    },
    {
      "cell_type": "markdown",
      "metadata": {
        "id": "gexasG9qTir2"
      },
      "source": [
        "#### 31. How to ignore all numpy warnings (not recommended)? (★☆☆) \n",
        "(**hint**: np.seterr, np.errstate)"
      ]
    },
    {
      "cell_type": "code",
      "execution_count": null,
      "metadata": {
        "id": "dWeNDXThTir2"
      },
      "outputs": [],
      "source": [
        "import numpy as np\n",
        "defaults = np.seterr(all = 'ignore')\n",
        "t = np.ones(1)/0\n",
        "t = np.seterr(**defaults)\n",
        "with np.errstate(divide= \"ignore\"):\n",
        "  t = np.ones(1)/0\n"
      ]
    },
    {
      "cell_type": "markdown",
      "metadata": {
        "id": "rIdvkBDsTir2"
      },
      "source": [
        "#### 32. Is the following expressions true? (★☆☆) \n",
        "(**hint**: imaginary number)"
      ]
    },
    {
      "cell_type": "markdown",
      "metadata": {
        "id": "_wGaKXr9Tir2"
      },
      "source": [
        "```python\n",
        "np.sqrt(-1) == np.emath.sqrt(-1)\n",
        "```"
      ]
    },
    {
      "cell_type": "code",
      "execution_count": null,
      "metadata": {
        "id": "0yipWdVuTir3",
        "colab": {
          "base_uri": "https://localhost:8080/"
        },
        "outputId": "067a381c-dd90-409e-bd4a-eca0ec3fafd0"
      },
      "outputs": [
        {
          "output_type": "stream",
          "name": "stdout",
          "text": [
            "False\n"
          ]
        },
        {
          "output_type": "stream",
          "name": "stderr",
          "text": [
            "/usr/local/lib/python3.7/dist-packages/ipykernel_launcher.py:1: RuntimeWarning: invalid value encountered in sqrt\n",
            "  \"\"\"Entry point for launching an IPython kernel.\n"
          ]
        }
      ],
      "source": [
        "print(np.sqrt(-1) == np.emath.sqrt(-1) )"
      ]
    },
    {
      "cell_type": "markdown",
      "metadata": {
        "id": "2ghKIl2WTir3"
      },
      "source": [
        "#### 33. How to get the dates of yesterday, today and tomorrow? (★☆☆) \n",
        "(**hint**: np.datetime64, np.timedelta64)"
      ]
    },
    {
      "cell_type": "code",
      "execution_count": null,
      "metadata": {
        "collapsed": true,
        "id": "NwVbnVbuTir4",
        "colab": {
          "base_uri": "https://localhost:8080/"
        },
        "outputId": "8af5abf3-2a6f-4268-e5db-900e56b2eff6"
      },
      "outputs": [
        {
          "output_type": "stream",
          "name": "stdout",
          "text": [
            "2022-10-22\n",
            "2022-10-23\n",
            "2022-10-24\n"
          ]
        }
      ],
      "source": [
        "import numpy as np\n",
        "td = np.datetime64('today','D')\n",
        "ye = np.datetime64('today','D') - (np.timedelta64(1, 'D'))\n",
        "fu = np.datetime64('today','D') + (np.timedelta64(1, 'D'))\n",
        "print(ye)\n",
        "print(td)\n",
        "print(fu)"
      ]
    },
    {
      "cell_type": "markdown",
      "metadata": {
        "id": "WbI8XKygTir4"
      },
      "source": [
        "#### 34. How to get all the dates corresponding to the month of July 2016? (★★☆) \n",
        "(**hint**: np.arange(dtype=datetime64\\['D'\\]))"
      ]
    },
    {
      "cell_type": "code",
      "execution_count": null,
      "metadata": {
        "id": "bpHIeho6Tir4"
      },
      "outputs": [],
      "source": [
        "import numpy as np\n",
        "print(np.arange('2016-07', '2016-08', dtype = 'datetime64[D]'))\n"
      ]
    },
    {
      "cell_type": "markdown",
      "metadata": {
        "id": "KEbo26QGTir5"
      },
      "source": [
        "#### 35. How to compute ((A+B)\\*(-A/2)) in place (without copy)? (★★☆) \n",
        "(**hint**: np.add(out=), np.negative(out=), np.multiply(out=), np.divide(out=))"
      ]
    },
    {
      "cell_type": "code",
      "execution_count": null,
      "metadata": {
        "id": "l5yg_63sTir6",
        "colab": {
          "base_uri": "https://localhost:8080/"
        },
        "outputId": "2a58605a-1c08-4197-fc40-762ab0dffb8a"
      },
      "outputs": [
        {
          "output_type": "execute_result",
          "data": {
            "text/plain": [
              "array([-1.5, -1.5, -1.5])"
            ]
          },
          "metadata": {},
          "execution_count": 36
        }
      ],
      "source": [
        "import numpy as np\n",
        "A = np.ones(3)*1\n",
        "B = np.ones(3)*2\n",
        "np.add(A,B, out=B)\n",
        "np.negative(A, out=A)\n",
        "np.divide(A,2, out =A)\n",
        "np.multiply(A,B, out=A)\n"
      ]
    },
    {
      "cell_type": "markdown",
      "metadata": {
        "id": "TtRcYky7Tir6"
      },
      "source": [
        "#### 36. Extract the integer part of a random array using 5 different methods (★★☆) \n",
        "(**hint**: %, np.floor, np.ceil, astype, np.trunc)"
      ]
    },
    {
      "cell_type": "code",
      "execution_count": null,
      "metadata": {
        "id": "dqyvpDzeTir7"
      },
      "outputs": [],
      "source": [
        "import numpy as np\n",
        "c = np.random.uniform(0,10,10)\n",
        "print(c - c%1)\n",
        "print(np.floor(c))\n",
        "print(np.ceil(c) - 1)\n",
        "print(c.astype(int))\n",
        "print(np.trunc(c))\n"
      ]
    },
    {
      "cell_type": "markdown",
      "metadata": {
        "id": "RoitmtwwTir7"
      },
      "source": [
        "#### 37. Create a 5x5 matrix with row values ranging from 0 to 4 (★★☆) \n",
        "(**hint**: np.arange)"
      ]
    },
    {
      "cell_type": "code",
      "execution_count": null,
      "metadata": {
        "id": "3Ga7SZSwTir7"
      },
      "outputs": [],
      "source": [
        "import numpy as np\n",
        "b = np.zeros((5,5))\n",
        "b += np.arange(5)\n",
        "print(b)\n"
      ]
    },
    {
      "cell_type": "markdown",
      "metadata": {
        "id": "uc7o88RYTir8"
      },
      "source": [
        "#### 38. Consider a generator function that generates 10 integers and use it to build an array (★☆☆) \n",
        "(**hint**: np.fromiter)"
      ]
    },
    {
      "cell_type": "code",
      "execution_count": null,
      "metadata": {
        "id": "LzLYaFJTTir8",
        "colab": {
          "base_uri": "https://localhost:8080/"
        },
        "outputId": "a48aceef-b1e6-4a50-e8c7-2624651f6cec"
      },
      "outputs": [
        {
          "output_type": "stream",
          "name": "stdout",
          "text": [
            "[0. 1. 2. 3. 4. 5. 6. 7. 8. 9.]\n"
          ]
        }
      ],
      "source": [
        "import numpy as np\n",
        "def generate():\n",
        "  for x in range(10):\n",
        "    yield x\n",
        "z = np.fromiter( generate(), dtype = float, count= -1)\n",
        "print(z)    \n"
      ]
    },
    {
      "cell_type": "markdown",
      "metadata": {
        "id": "sjCaCZXbTir9"
      },
      "source": [
        "#### 39. Create a vector of size 10 with values ranging from 0 to 1, both excluded (★★☆) \n",
        "(**hint**: np.linspace)"
      ]
    },
    {
      "cell_type": "code",
      "execution_count": null,
      "metadata": {
        "id": "IdOObj_nTir9"
      },
      "outputs": [],
      "source": [
        "import numpy as np\n",
        "l = np.linspace(0,1,11, endpoint = False)[1:]\n",
        "print(l)"
      ]
    },
    {
      "cell_type": "markdown",
      "metadata": {
        "id": "s0RYfq--Tir-"
      },
      "source": [
        "#### 40. Create a random vector of size 10 and sort it (★★☆) \n",
        "(**hint**: sort)"
      ]
    },
    {
      "cell_type": "code",
      "execution_count": null,
      "metadata": {
        "id": "VB-9T4mPTir-"
      },
      "outputs": [],
      "source": [
        "import numpy as np\n",
        "n = np.random.random(10)\n",
        "n.sort()\n",
        "print(n)"
      ]
    },
    {
      "cell_type": "markdown",
      "metadata": {
        "id": "IT7woVn-Tir-"
      },
      "source": [
        "#### 41. How to sum a small array faster than np.sum? (★★☆) \n",
        "(**hint**: np.add.reduce)"
      ]
    },
    {
      "cell_type": "code",
      "execution_count": null,
      "metadata": {
        "id": "sm0JDC_NTir_",
        "colab": {
          "base_uri": "https://localhost:8080/"
        },
        "outputId": "da813789-aa2d-48ff-bb09-0a179f8aa948"
      },
      "outputs": [
        {
          "output_type": "execute_result",
          "data": {
            "text/plain": [
              "45"
            ]
          },
          "metadata": {},
          "execution_count": 47
        }
      ],
      "source": [
        "import numpy as np\n",
        "t = np.arange(10)\n",
        "np.add.reduce(t)"
      ]
    },
    {
      "cell_type": "markdown",
      "metadata": {
        "id": "Vyn7z2ofTir_"
      },
      "source": [
        "#### 42. Consider two random array A and B, check if they are equal (★★☆) \n",
        "(**hint**: np.allclose, np.array\\_equal)"
      ]
    },
    {
      "cell_type": "code",
      "execution_count": null,
      "metadata": {
        "id": "d-GFm-v7Tir_",
        "colab": {
          "base_uri": "https://localhost:8080/"
        },
        "outputId": "823f49d1-ebcd-4717-9aec-54c9ea118beb"
      },
      "outputs": [
        {
          "output_type": "stream",
          "name": "stdout",
          "text": [
            "False False\n"
          ]
        }
      ],
      "source": [
        "A = np.random.randint([1,2,3,4])\n",
        "B = np.random.randint([1,2,3,4])  \n",
        "i = np.allclose(A,B)\n",
        "j = np.array_equal(A,B)\n",
        "print(i,j)"
      ]
    },
    {
      "cell_type": "markdown",
      "metadata": {
        "id": "U-VwNHsUTir_"
      },
      "source": [
        "#### 43. Make an array immutable (read-only) (★★☆) \n",
        "(**hint**: flags.writeable)"
      ]
    },
    {
      "cell_type": "code",
      "execution_count": null,
      "metadata": {
        "id": "4wV36lQOTisA"
      },
      "outputs": [],
      "source": [
        "import numpy as np\n",
        "z = np.zeros(11)\n",
        "z.setflags(write= False)\n"
      ]
    },
    {
      "cell_type": "markdown",
      "metadata": {
        "id": "WJAR-84ITisA"
      },
      "source": [
        "#### 44. Consider a random 10x2 matrix representing cartesian coordinates, convert them to polar coordinates (★★☆) \n",
        "(**hint**: np.sqrt, np.arctan2)"
      ]
    },
    {
      "cell_type": "code",
      "execution_count": null,
      "metadata": {
        "id": "EV1Pe-k0TisA",
        "colab": {
          "base_uri": "https://localhost:8080/"
        },
        "outputId": "3625c710-5e60-4a8e-b3d4-70a88eb14e14"
      },
      "outputs": [
        {
          "output_type": "stream",
          "name": "stdout",
          "text": [
            "[0.76834324 0.7721084  0.86129047 1.1121936  0.77731394 0.90436588\n",
            " 0.5421967  0.78177157 0.80496302 1.25598772]\n",
            "[0.5559702  0.00479132 0.59453093 0.7842559  0.74646065 0.68846448\n",
            " 1.12417833 0.21641223 0.56227855 0.86140092]\n"
          ]
        }
      ],
      "source": [
        "import numpy as np\n",
        "y = np.random.random((10,2))\n",
        "u,v = y[:,0], y[:,1]\n",
        "o = np.sqrt(u**2 + v**2)\n",
        "p = np.arctan2(v,u)\n",
        "print(o)\n",
        "print(p)"
      ]
    },
    {
      "cell_type": "markdown",
      "metadata": {
        "id": "HGWOgjgPTisB"
      },
      "source": [
        "#### 45. Create random vector of size 10 and replace the maximum value by 0 (★★☆) \n",
        "(**hint**: argmax)"
      ]
    },
    {
      "cell_type": "code",
      "execution_count": null,
      "metadata": {
        "id": "b-CEQjzoTisB",
        "colab": {
          "base_uri": "https://localhost:8080/"
        },
        "outputId": "b0d1d830-0d0f-4a17-b0c8-ffd0d699276c"
      },
      "outputs": [
        {
          "output_type": "stream",
          "name": "stdout",
          "text": [
            "[0.0616355  0.08916307 0.71500178 0.1754685  0.14495138 0.34392993\n",
            " 0.04404973 0.30861127 0.         0.4960592 ]\n"
          ]
        }
      ],
      "source": [
        "import numpy as np\n",
        "e = np.random.random(10)\n",
        "e[e.argmax()] = 0\n",
        "print(e)"
      ]
    },
    {
      "cell_type": "markdown",
      "metadata": {
        "id": "Lf9GN_yzTisC"
      },
      "source": [
        "#### 46. Create a structured array with `x` and `y` coordinates covering the \\[0,1\\]x\\[0,1\\] area (★★☆) \n",
        "(**hint**: np.meshgrid)"
      ]
    },
    {
      "cell_type": "code",
      "execution_count": null,
      "metadata": {
        "id": "yIiR3LEmTisD"
      },
      "outputs": [],
      "source": [
        "import numpy as np\n",
        "h = np.zeros((5,5), [( 'x',float), ('y',float )])\n",
        "h['x'],h['y'] = np.meshgrid(np.linspace(0,1,5), np.linspace(0,1,5) )\n",
        "print(h)"
      ]
    },
    {
      "cell_type": "markdown",
      "metadata": {
        "id": "watZo2osTisD"
      },
      "source": [
        "####  47. Given two arrays, X and Y, construct the Cauchy matrix C (Cij =1/(xi - yj)) \n",
        "(**hint**: np.subtract.outer)"
      ]
    },
    {
      "cell_type": "code",
      "execution_count": null,
      "metadata": {
        "id": "Z3zQ2FfaTisD"
      },
      "outputs": [],
      "source": [
        "import numpy as np\n",
        "a = np.arange(8)\n",
        "b = a+0.5\n",
        "c = 1.0/np.subtract.outer(a,b)\n",
        "print(np.linalg.det(c))"
      ]
    },
    {
      "cell_type": "markdown",
      "metadata": {
        "id": "ldTLCH2kTisE"
      },
      "source": [
        "#### 48. Print the minimum and maximum representable value for each numpy scalar type (★★☆) \n",
        "(**hint**: np.iinfo, np.finfo, eps)"
      ]
    },
    {
      "cell_type": "code",
      "execution_count": null,
      "metadata": {
        "id": "B0do6YWYTisE"
      },
      "outputs": [],
      "source": [
        "import numpy as np\n",
        "for dtype in [np.int8, np.int32, np.int64]:\n",
        "  print(np.iinfo(dtype).min)\n",
        "  print(np.iinfo(dtype).max)\n",
        "for dtype in [np.float32, np.float64]: \n",
        "    print(np.finfo(dtype).min)\n",
        "    print(np.finfo(dtype).max)\n",
        "    print(np.finfo(dtype).eps)\n"
      ]
    },
    {
      "cell_type": "markdown",
      "metadata": {
        "id": "l2gYQjoJTisE"
      },
      "source": [
        "#### 49. How to print all the values of an array? (★★☆) \n",
        "(**hint**: np.set\\_printoptions)"
      ]
    },
    {
      "cell_type": "code",
      "execution_count": null,
      "metadata": {
        "id": "IS8rCB3LTisE"
      },
      "outputs": [],
      "source": [
        "import numpy as np\n",
        "np.set_printoptions(threshold = 1)\n",
        "g = np.zeros((6,6))\n",
        "print(g)"
      ]
    },
    {
      "cell_type": "markdown",
      "metadata": {
        "id": "stGp11l3TisE"
      },
      "source": [
        "#### 50. How to find the closest value (to a given scalar) in a vector? (★★☆) \n",
        "(**hint**: argmin)"
      ]
    },
    {
      "cell_type": "code",
      "execution_count": null,
      "metadata": {
        "id": "wO-54xAXTisF",
        "colab": {
          "base_uri": "https://localhost:8080/"
        },
        "outputId": "db80de05-f98c-41b9-8d36-da9f3b073f9e"
      },
      "outputs": [
        {
          "output_type": "stream",
          "name": "stdout",
          "text": [
            "37\n"
          ]
        }
      ],
      "source": [
        "import numpy as np\n",
        "e = np.arange(100)\n",
        "j = np.random.uniform(0,100)\n",
        "i = (np.abs(e-j)).argmin()\n",
        "print(e[i])"
      ]
    },
    {
      "cell_type": "markdown",
      "metadata": {
        "id": "2YWyh3YnTisF"
      },
      "source": [
        "#### 51. Create a structured array representing a position (x,y) and a color (r,g,b) (★★☆) \n",
        "(**hint**: dtype)"
      ]
    },
    {
      "cell_type": "code",
      "execution_count": null,
      "metadata": {
        "id": "U_h7nFGGTisF"
      },
      "outputs": [],
      "source": [
        "import numpy as np\n",
        "t = np.zeros(10, [('position' ,[('x',float,1),('y',float,1)  ]),\n",
        "    ('color', [('r',float,1),  ('g',float,1), ('b',float,1), ])  ] )\n",
        "\n",
        "print(t)"
      ]
    },
    {
      "cell_type": "markdown",
      "metadata": {
        "id": "-b_D2CjeTisF"
      },
      "source": [
        "#### 52. Consider a random vector with shape (100,2) representing coordinates, find point by point distances (★★☆) \n",
        "(**hint**: np.atleast\\_2d, T, np.sqrt)"
      ]
    },
    {
      "cell_type": "code",
      "execution_count": null,
      "metadata": {
        "id": "T0l62H5xTisG"
      },
      "outputs": [],
      "source": [
        "import numpy as np\n",
        "import scipy\n",
        "import scipy.spatial\n",
        "t = np.random.random((100,2))\n",
        "u = scipy.spatial.distance.cdist(t,t)\n",
        "print(u)"
      ]
    },
    {
      "cell_type": "markdown",
      "metadata": {
        "id": "7GXta5bOTisG"
      },
      "source": [
        "#### 53. How to convert a float (32 bits) array into an integer (32 bits) in place? \n",
        "(**hint**: astype(copy=False))"
      ]
    },
    {
      "cell_type": "code",
      "execution_count": null,
      "metadata": {
        "id": "ewMIinXaTisG",
        "colab": {
          "base_uri": "https://localhost:8080/"
        },
        "outputId": "618b0baa-53f0-4f67-eac2-f6de649c75a2"
      },
      "outputs": [
        {
          "output_type": "stream",
          "name": "stdout",
          "text": [
            "[0 1 2 3 4 5 6 7 8 9]\n"
          ]
        }
      ],
      "source": [
        "import numpy as np\n",
        "u = np.arange(10, dtype=np.float32)\n",
        "u = u.astype(np.int32, copy=False)\n",
        "print(u)"
      ]
    },
    {
      "cell_type": "markdown",
      "metadata": {
        "id": "m3q_m06ITisG"
      },
      "source": [
        "#### 54. How to read the following file? (★★☆) \n",
        "(**hint**: np.genfromtxt)"
      ]
    },
    {
      "cell_type": "markdown",
      "metadata": {
        "id": "hnjtDJktTisH"
      },
      "source": [
        "```\n",
        "1, 2, 3, 4, 5\n",
        "6,  ,  , 7, 8\n",
        " ,  , 9,10,11\n",
        "```"
      ]
    },
    {
      "cell_type": "code",
      "execution_count": null,
      "metadata": {
        "id": "klb5R6NrTisI",
        "colab": {
          "base_uri": "https://localhost:8080/"
        },
        "outputId": "76a6b497-93b1-424d-8bf5-6b89c7a10d80"
      },
      "outputs": [
        {
          "output_type": "stream",
          "name": "stdout",
          "text": [
            "[[  1   2   3   4   5]\n",
            " [  6 255 255   7   8]\n",
            " [255 255   9  10  11]]\n"
          ]
        }
      ],
      "source": [
        "from io import StringIO\n",
        "\n",
        "# Fake file \n",
        "s = StringIO(\"\"\"1, 2, 3, 4, 5\\n\n",
        "                6,  ,  , 7, 8\\n\n",
        "                 ,  , 9,10,11\\n\"\"\")\n",
        "Z = np.genfromtxt(s, delimiter=\",\", dtype=np.uint8)\n",
        "print(Z)"
      ]
    },
    {
      "cell_type": "markdown",
      "metadata": {
        "id": "Jyce8HJ4TisJ"
      },
      "source": [
        "#### 55. What is the equivalent of enumerate for numpy arrays? (★★☆) \n",
        "(**hint**: np.ndenumerate, np.ndindex)"
      ]
    },
    {
      "cell_type": "code",
      "execution_count": null,
      "metadata": {
        "id": "33DGtAb6TisJ"
      },
      "outputs": [],
      "source": [
        "import numpy as np\n",
        "f = np.arange(9).reshape(3,3)\n",
        "for index, value in np.ndenumerate(f):\n",
        "  print(index,value)\n",
        "for index in np.ndindex(f.shape):\n",
        "  print(index,f[index])  "
      ]
    },
    {
      "cell_type": "markdown",
      "metadata": {
        "id": "PNSNwJ_YTisJ"
      },
      "source": [
        "#### 56. Generate a generic 2D Gaussian-like array (★★☆) \n",
        "(**hint**: np.meshgrid, np.exp)"
      ]
    },
    {
      "cell_type": "code",
      "execution_count": null,
      "metadata": {
        "id": "mQhe496LTisJ"
      },
      "outputs": [],
      "source": [
        "import numpy as np\n",
        "a,b = np.meshgrid(np.linspace(-1,1,10),np.linspace(-1,1,10))\n",
        "G = np.sqrt(a*a + b*b)\n",
        "sigma,mu = 1.0, 0.0\n",
        "J = np.exp(-((G-mu)**2 / (2.0 * sigma**2) ))\n",
        "print(J)"
      ]
    },
    {
      "cell_type": "markdown",
      "metadata": {
        "id": "fUMQm1tmTisJ"
      },
      "source": [
        "#### 57. How to randomly place p elements in a 2D array? (★★☆) \n",
        "(**hint**: np.put, np.random.choice)"
      ]
    },
    {
      "cell_type": "code",
      "execution_count": null,
      "metadata": {
        "id": "pVkGymajTisK"
      },
      "outputs": [],
      "source": [
        "import numpy as np\n",
        "c = 6\n",
        "d = 3\n",
        "m = np.zeros((c,c))\n",
        "np.put(m, np.random.choice(range(c*c),d,replace=False),2)\n",
        "print(m)"
      ]
    },
    {
      "cell_type": "markdown",
      "metadata": {
        "id": "IjKtFOlbTisK"
      },
      "source": [
        "#### 58. Subtract the mean of each row of a matrix (★★☆) \n",
        "(**hint**: mean(axis=,keepdims=))"
      ]
    },
    {
      "cell_type": "code",
      "execution_count": null,
      "metadata": {
        "id": "ggNmhhfKTisK"
      },
      "outputs": [],
      "source": [
        "import numpy as np\n",
        "x = np.random.rand(5, 10)\n",
        "y = x - x.mean(axis=1, keepdims = True)\n",
        "print(y)"
      ]
    },
    {
      "cell_type": "markdown",
      "metadata": {
        "id": "Z2Q_vUZdTisK"
      },
      "source": [
        "#### 59. How to sort an array by the nth column? (★★☆) \n",
        "(**hint**: argsort)"
      ]
    },
    {
      "cell_type": "code",
      "execution_count": null,
      "metadata": {
        "id": "eezqX00HTisL",
        "colab": {
          "base_uri": "https://localhost:8080/"
        },
        "outputId": "bc0b43ec-4f09-433a-9bf8-8df4d6d6f571"
      },
      "outputs": [
        {
          "output_type": "stream",
          "name": "stdout",
          "text": [
            "[[8 7 5]\n",
            " [2 6 3]\n",
            " [4 9 8]]\n",
            "[[2 6 3]\n",
            " [8 7 5]\n",
            " [4 9 8]]\n"
          ]
        }
      ],
      "source": [
        "import numpy as np\n",
        "w = np.random.randint(0,10,(3,3))\n",
        "print(w)\n",
        "print(w[w[:,1].argsort()])"
      ]
    },
    {
      "cell_type": "markdown",
      "metadata": {
        "id": "WZ39RR9rTisL"
      },
      "source": [
        "#### 60. How to tell if a given 2D array has null columns? (★★☆) \n",
        "(**hint**: any, ~)"
      ]
    },
    {
      "cell_type": "code",
      "execution_count": null,
      "metadata": {
        "id": "UXSioVRWTisL",
        "colab": {
          "base_uri": "https://localhost:8080/"
        },
        "outputId": "8357335e-0fd5-4ddf-bfba-e14c01a66966"
      },
      "outputs": [
        {
          "output_type": "stream",
          "name": "stdout",
          "text": [
            "True\n"
          ]
        }
      ],
      "source": [
        "import numpy as np\n",
        "w = np.random.randint(0,3,(3,10))\n",
        "print((~w.any(axis=0)).any())"
      ]
    },
    {
      "cell_type": "markdown",
      "metadata": {
        "id": "MRnOtIYtTisL"
      },
      "source": [
        "#### 61. Find the nearest value from a given value in an array (★★☆) \n",
        "(**hint**: np.abs, argmin, flat)"
      ]
    },
    {
      "cell_type": "code",
      "execution_count": null,
      "metadata": {
        "id": "xb5vaJPgTisL",
        "colab": {
          "base_uri": "https://localhost:8080/"
        },
        "outputId": "543caf5a-25b9-4a27-e915-bce360939776"
      },
      "outputs": [
        {
          "output_type": "stream",
          "name": "stdout",
          "text": [
            "0.4633733310228476\n"
          ]
        }
      ],
      "source": [
        "import numpy as np\n",
        "l = np.random.uniform(0,1,10)\n",
        "L = 0.5\n",
        "n = l.flat[np.abs(l - L).argmin()]\n",
        "print(n)"
      ]
    },
    {
      "cell_type": "markdown",
      "metadata": {
        "id": "GopJmxhGTisM"
      },
      "source": [
        "#### 62. Considering two arrays with shape (1,3) and (3,1), how to compute their sum using an iterator? (★★☆) \n",
        "(**hint**: np.nditer)"
      ]
    },
    {
      "cell_type": "code",
      "execution_count": null,
      "metadata": {
        "id": "vQau7Pt6TisM",
        "colab": {
          "base_uri": "https://localhost:8080/"
        },
        "outputId": "40ee673d-8a9a-4b53-dbab-8c573c27ea79"
      },
      "outputs": [
        {
          "output_type": "stream",
          "name": "stdout",
          "text": [
            "[[0 1 2]\n",
            " [1 2 3]\n",
            " [2 3 4]]\n"
          ]
        }
      ],
      "source": [
        "import numpy as np\n",
        "S  = np.arange(3).reshape(3,1)\n",
        "T  = np.arange(3).reshape(1,3)\n",
        "cr = np.nditer([S,T,None])\n",
        "for a,b,c in cr: c[...] = a + b\n",
        "print(cr.operands[2])"
      ]
    },
    {
      "cell_type": "markdown",
      "metadata": {
        "id": "F5TBAg2LTisM"
      },
      "source": [
        "#### 63. Create an array class that has a name attribute (★★☆) \n",
        "(**hint**: class method)"
      ]
    },
    {
      "cell_type": "code",
      "execution_count": null,
      "metadata": {
        "id": "Lcq4G3pNTisM",
        "colab": {
          "base_uri": "https://localhost:8080/"
        },
        "outputId": "2f7d29d8-f1f2-48fd-c17f-93e7936c0f4d"
      },
      "outputs": [
        {
          "output_type": "stream",
          "name": "stdout",
          "text": [
            "range_10\n"
          ]
        }
      ],
      "source": [
        "import numpy as np\n",
        "class NamedArray(np.ndarray):\n",
        "  def __new__(cls, array, name=\"no name\"):\n",
        "    obj = np.asarray(array).view(cls)\n",
        "    obj.name = name\n",
        "    return obj\n",
        "  def __array_finalize__(self, obj):\n",
        "    if obj is None: return\n",
        "    self.info = getattr(obj , 'name', 'no name')\n",
        "Z = NamedArray(np.arange(10), \"range_10\")\n",
        "print(Z.name)    \n",
        "\n"
      ]
    },
    {
      "cell_type": "markdown",
      "metadata": {
        "id": "9DL12OzkTisM"
      },
      "source": [
        "#### 64. Consider a given vector, how to add 1 to each element indexed by a second vector (be careful with repeated indices)? (★★★) \n",
        "(**hint**: np.bincount | np.add.at)"
      ]
    },
    {
      "cell_type": "code",
      "execution_count": null,
      "metadata": {
        "id": "AAw5ETlCTisN",
        "colab": {
          "base_uri": "https://localhost:8080/"
        },
        "outputId": "376bbfc5-1726-42c8-edea-865c979ac2fa"
      },
      "outputs": [
        {
          "output_type": "stream",
          "name": "stdout",
          "text": [
            "[3. 3. 6. 1. 2. 2. 2. 2. 5. 4.]\n"
          ]
        }
      ],
      "source": [
        "import numpy as np\n",
        "P = np.ones(10)\n",
        "Q = np.random.randint(0, len(P), 20)\n",
        "P += np.bincount(Q, minlength= len(P))\n",
        "print(P)\n"
      ]
    },
    {
      "cell_type": "markdown",
      "metadata": {
        "id": "SSgqbAWSTisN"
      },
      "source": [
        "#### 65. How to accumulate elements of a vector (X) to an array (F) based on an index list (I)? (★★★) \n",
        "(**hint**: np.bincount)"
      ]
    },
    {
      "cell_type": "code",
      "execution_count": null,
      "metadata": {
        "id": "R1xrNgThTisN",
        "colab": {
          "base_uri": "https://localhost:8080/"
        },
        "outputId": "57ecff71-39d2-4c60-bda8-78352ec58044"
      },
      "outputs": [
        {
          "output_type": "stream",
          "name": "stdout",
          "text": [
            "[0. 7. 0. 6. 5. 0. 0. 0. 0. 3.]\n"
          ]
        }
      ],
      "source": [
        "import numpy as np\n",
        "V = [1, 2, 3, 4, 5, 6]\n",
        "W = [1, 3, 9, 3, 4, 1]\n",
        "C = np.bincount(W,V)\n",
        "print(C)"
      ]
    },
    {
      "cell_type": "markdown",
      "metadata": {
        "id": "x0nUckXaTisN"
      },
      "source": [
        "#### 66. Considering a (w,h,3) image of (dtype=ubyte), compute the number of unique colors (★★★) \n",
        "(**hint**: np.unique)"
      ]
    },
    {
      "cell_type": "code",
      "execution_count": null,
      "metadata": {
        "id": "ck-ncEpHTisN",
        "colab": {
          "base_uri": "https://localhost:8080/"
        },
        "outputId": "8991485d-ac03-4cbd-973c-7e832f545653"
      },
      "outputs": [
        {
          "output_type": "stream",
          "name": "stdout",
          "text": [
            "8\n"
          ]
        }
      ],
      "source": [
        "import numpy as np\n",
        "w,h = 16,16\n",
        "I = np.random.randint(0,2, (h,w,3)).astype(np.ubyte)\n",
        "F = I[...,0]*(256*256) + I[...,1]*256 + I[...,2]\n",
        "n = len(np.unique(F))\n",
        "print(n)\n"
      ]
    },
    {
      "cell_type": "markdown",
      "metadata": {
        "id": "PbktHBbcTisO"
      },
      "source": [
        "#### 67. Considering a four dimensions array, how to get sum over the last two axis at once? (★★★) \n",
        "(**hint**: sum(axis=(-2,-1)))"
      ]
    },
    {
      "cell_type": "code",
      "execution_count": null,
      "metadata": {
        "id": "ZzkaLW1JTisO",
        "colab": {
          "base_uri": "https://localhost:8080/"
        },
        "outputId": "2d873295-8649-4fe7-fb04-8cb2493c3263"
      },
      "outputs": [
        {
          "output_type": "stream",
          "name": "stdout",
          "text": [
            "[[59 59 54 64]\n",
            " [61 62 47 57]\n",
            " [57 44 51 62]]\n"
          ]
        }
      ],
      "source": [
        "import numpy as np\n",
        "Q = np.random.randint(0,10,(3,4,3,4))\n",
        "sum = Q.sum(axis = (-2,-1))\n",
        "print(sum)"
      ]
    },
    {
      "cell_type": "markdown",
      "metadata": {
        "id": "DpGfYDwGTisO"
      },
      "source": [
        "#### 68. Considering a one-dimensional vector D, how to compute means of subsets of D using a vector S of same size describing subset  indices? (★★★) \n",
        "(**hint**: np.bincount)"
      ]
    },
    {
      "cell_type": "code",
      "execution_count": null,
      "metadata": {
        "id": "kBvrsFZPTisP",
        "colab": {
          "base_uri": "https://localhost:8080/"
        },
        "outputId": "b6cc35d4-72fe-4cf0-f5bf-9815b4c5fad5"
      },
      "outputs": [
        {
          "output_type": "stream",
          "name": "stdout",
          "text": [
            "[0.27231347 0.53561453 0.26478835 0.59057833 0.5157712  0.52241423\n",
            " 0.38848007 0.53291378 0.42745584 0.54666874]\n"
          ]
        }
      ],
      "source": [
        "import numpy as np\n",
        "D = np.random.uniform(0,1,100)\n",
        "O = np.random.randint(0,10,100)\n",
        "D_sums = np.bincount(O, weights=D )\n",
        "D_counts = np.bincount(O)\n",
        "D_mean = D_sums / D_counts\n",
        "print(D_mean)"
      ]
    },
    {
      "cell_type": "markdown",
      "metadata": {
        "id": "r_fbrUUaTisP"
      },
      "source": [
        "#### 69. How to get the diagonal of a dot product? (★★★) \n",
        "(**hint**: np.diag)"
      ]
    },
    {
      "cell_type": "code",
      "execution_count": null,
      "metadata": {
        "id": "xphjoM_UTisP",
        "colab": {
          "base_uri": "https://localhost:8080/"
        },
        "outputId": "db7ecbed-9aaa-4be2-832d-28057f023363"
      },
      "outputs": [
        {
          "output_type": "execute_result",
          "data": {
            "text/plain": [
              "array([1.09504721, 1.2455924 , 1.17164473, 1.07306799, 1.23579121])"
            ]
          },
          "metadata": {},
          "execution_count": 15
        }
      ],
      "source": [
        "import numpy as np\n",
        "F = np.random.uniform(0,1,(5,5))\n",
        "H = np.random.uniform(0,1,(5,5))\n",
        "np.diag(np.dot(F,H))"
      ]
    },
    {
      "cell_type": "markdown",
      "metadata": {
        "id": "uvO7S7EMTisQ"
      },
      "source": [
        "#### 70. Consider the vector \\[1, 2, 3, 4, 5\\], how to build a new vector with 3 consecutive zeros interleaved between each value? (★★★) \n",
        "(**hint**: array\\[::4\\])"
      ]
    },
    {
      "cell_type": "code",
      "execution_count": null,
      "metadata": {
        "id": "dzDn450QTisQ",
        "colab": {
          "base_uri": "https://localhost:8080/"
        },
        "outputId": "485687d6-338e-48b2-f8e4-0cb4f07c0c21"
      },
      "outputs": [
        {
          "output_type": "stream",
          "name": "stdout",
          "text": [
            "[1. 0. 0. 0. 2. 0. 0. 0. 3. 0. 0. 0. 4. 0. 0. 0. 5.]\n"
          ]
        }
      ],
      "source": [
        "import numpy as np\n",
        "J = np.array([1,2,3,4,5])\n",
        "n = 3\n",
        "o = np.zeros( len(J) + (len(J)-1)*(n))\n",
        "o[::n+1] = J\n",
        "print(o)"
      ]
    },
    {
      "cell_type": "markdown",
      "metadata": {
        "id": "9LotwC8fTisQ"
      },
      "source": [
        "#### 71. Consider an array of dimension (5,5,3), how to mulitply it by an array with dimensions (5,5)? (★★★) \n",
        "(**hint**: array\\[:, :, None\\])"
      ]
    },
    {
      "cell_type": "code",
      "execution_count": null,
      "metadata": {
        "collapsed": true,
        "id": "tXEHs90uTisR",
        "colab": {
          "base_uri": "https://localhost:8080/"
        },
        "outputId": "4f9fc9cd-f9c9-41f8-bd44-2eb1c8b45b37"
      },
      "outputs": [
        {
          "output_type": "stream",
          "name": "stdout",
          "text": [
            "[[[2. 2. 2.]\n",
            "  [2. 2. 2.]\n",
            "  [2. 2. 2.]\n",
            "  [2. 2. 2.]\n",
            "  [2. 2. 2.]]\n",
            "\n",
            " [[2. 2. 2.]\n",
            "  [2. 2. 2.]\n",
            "  [2. 2. 2.]\n",
            "  [2. 2. 2.]\n",
            "  [2. 2. 2.]]\n",
            "\n",
            " [[2. 2. 2.]\n",
            "  [2. 2. 2.]\n",
            "  [2. 2. 2.]\n",
            "  [2. 2. 2.]\n",
            "  [2. 2. 2.]]\n",
            "\n",
            " [[2. 2. 2.]\n",
            "  [2. 2. 2.]\n",
            "  [2. 2. 2.]\n",
            "  [2. 2. 2.]\n",
            "  [2. 2. 2.]]\n",
            "\n",
            " [[2. 2. 2.]\n",
            "  [2. 2. 2.]\n",
            "  [2. 2. 2.]\n",
            "  [2. 2. 2.]\n",
            "  [2. 2. 2.]]]\n"
          ]
        }
      ],
      "source": [
        "import numpy as np\n",
        "X = np.ones((5,5,3))\n",
        "Y = 2*np.ones((5,5))\n",
        "print(X*Y[:,:,None])"
      ]
    },
    {
      "cell_type": "markdown",
      "metadata": {
        "id": "vNNwYf8MTisR"
      },
      "source": [
        "#### 72. How to swap two rows of an array? (★★★) \n",
        "(**hint**: array\\[\\[\\]\\] = array\\[\\[\\]\\])"
      ]
    },
    {
      "cell_type": "code",
      "execution_count": null,
      "metadata": {
        "id": "vNLi62DsTisS"
      },
      "outputs": [],
      "source": [
        "import numpy as np\n",
        "G = np.arange(25).reshape(5,5)\n",
        "G[[0,1]] = G[[1,0]]\n",
        "print(G)"
      ]
    },
    {
      "cell_type": "markdown",
      "metadata": {
        "id": "rpJgUcfXTisS"
      },
      "source": [
        "#### 73. Consider a set of 10 triplets describing 10 triangles (with shared vertices), find the set of unique line segments composing all the  triangles (★★★) \n",
        "(**hint**: repeat, np.roll, np.sort, view, np.unique)"
      ]
    },
    {
      "cell_type": "code",
      "execution_count": null,
      "metadata": {
        "id": "OuEMC6oCTisV"
      },
      "outputs": [],
      "source": [
        "import numpy as np\n",
        "vc = np.random.randint(0,100,(10,3))\n",
        "F = np.roll(vc.repeat(2, axis=1), -1, axis=1)\n",
        "F = F.reshape(len(F)*3, 2)\n",
        "F = np.sort(F, axis = 1)\n",
        "G = F.view(dtype = [('p0', F.dtype), ('p1', F.dtype)])\n",
        "G = np.unique(G)\n",
        "print(G)"
      ]
    },
    {
      "cell_type": "markdown",
      "metadata": {
        "id": "4TUzbHgCTisV"
      },
      "source": [
        "#### 74. Given an array C that is a bincount, how to produce an array A such that np.bincount(A) == C? (★★★) \n",
        "(**hint**: np.repeat)"
      ]
    },
    {
      "cell_type": "code",
      "execution_count": null,
      "metadata": {
        "id": "f1MnnKfWTisV",
        "colab": {
          "base_uri": "https://localhost:8080/"
        },
        "outputId": "e0accaef-6e7e-4b7e-8df9-111f3b9c8d63"
      },
      "outputs": [
        {
          "output_type": "stream",
          "name": "stdout",
          "text": [
            "[1 1 2 3 4 4 6]\n"
          ]
        }
      ],
      "source": [
        "import numpy as np\n",
        "I = np.bincount([1,1,2,3,4,4,6])\n",
        "H = np.repeat(np.arange(len(I)), I)\n",
        "print(H)"
      ]
    },
    {
      "cell_type": "markdown",
      "metadata": {
        "id": "2gVaTXKzTisV"
      },
      "source": [
        "#### 75. How to compute averages using a sliding window over an array? (★★★) \n",
        "(**hint**: np.cumsum)"
      ]
    },
    {
      "cell_type": "code",
      "execution_count": null,
      "metadata": {
        "id": "pMqM0eW5TisW",
        "colab": {
          "base_uri": "https://localhost:8080/"
        },
        "outputId": "3080ec0e-29f0-4d7e-a3db-5f87f967dc90"
      },
      "outputs": [
        {
          "output_type": "stream",
          "name": "stdout",
          "text": [
            "[ 1.  2.  3.  4.  5.  6.  7.  8.  9. 10. 11. 12. 13. 14. 15. 16. 17. 18.]\n"
          ]
        }
      ],
      "source": [
        "import numpy as np\n",
        "def moving_window(a, n=3):\n",
        "  re = np.cumsum(a, dtype=float)\n",
        "  re[n:] = re[n:] - re[:-n]\n",
        "  return re[n - 1:]/n\n",
        "z = np.arange(20)\n",
        "print(moving_window(z, n=3))  "
      ]
    },
    {
      "cell_type": "markdown",
      "metadata": {
        "id": "tmPhQAm1TisW"
      },
      "source": [
        "#### 76. Consider a one-dimensional array Z, build a two-dimensional array whose first row is (Z\\[0\\],Z\\[1\\],Z\\[2\\]) and each subsequent row is  shifted by 1 (last row should be (Z\\[-3\\],Z\\[-2\\],Z\\[-1\\]) (★★★) \n",
        "(**hint**: from numpy.lib import stride_tricks)"
      ]
    },
    {
      "cell_type": "code",
      "execution_count": null,
      "metadata": {
        "id": "hP6lOvKbTisW",
        "colab": {
          "base_uri": "https://localhost:8080/"
        },
        "outputId": "527c5602-8c4f-489b-d80e-74e0bccf9e85"
      },
      "outputs": [
        {
          "output_type": "stream",
          "name": "stdout",
          "text": [
            "[[0 1 2]\n",
            " [1 2 3]\n",
            " [2 3 4]\n",
            " [3 4 5]\n",
            " [4 5 6]\n",
            " [5 6 7]\n",
            " [6 7 8]\n",
            " [7 8 9]]\n"
          ]
        }
      ],
      "source": [
        "import numpy as np\n",
        "from numpy.lib import stride_tricks\n",
        "def rolling(a, window):\n",
        "  shape = (a.size - window+1, window)\n",
        "  strides = (a.itemsize , a.itemsize)\n",
        "  return stride_tricks.as_strided(a, shape=shape, strides=strides)\n",
        "W = rolling(np.arange(10),3)\n",
        "print(W)  \n",
        "  "
      ]
    },
    {
      "cell_type": "markdown",
      "metadata": {
        "id": "-wFI0AXzTisX"
      },
      "source": [
        "#### 77. How to negate a boolean, or to change the sign of a float inplace? (★★★) \n",
        "(**hint**: np.logical_not, np.negative)"
      ]
    },
    {
      "cell_type": "code",
      "execution_count": null,
      "metadata": {
        "id": "MS1fzz_3TisY"
      },
      "outputs": [],
      "source": [
        "import numpy as np\n",
        "Q = np.random.randint(0,2,100)\n",
        "np.logical_not(Q, out=Q)\n",
        "\n",
        "Q = np.random.uniform(-1.0,1.0,100)\n",
        "np.negative(Q, out=Q)"
      ]
    },
    {
      "cell_type": "markdown",
      "metadata": {
        "id": "ys4uxoywTisZ"
      },
      "source": [
        "#### 78. Consider 2 sets of points P0,P1 describing lines (2d) and a point p, how to compute distance from p to each line i  (P0\\[i\\],P1\\[i\\])? (★★★)"
      ]
    },
    {
      "cell_type": "code",
      "execution_count": null,
      "metadata": {
        "id": "ydssrh6tTisZ",
        "colab": {
          "base_uri": "https://localhost:8080/"
        },
        "outputId": "4c10074b-6bd4-4f94-a04e-4ec83f366408"
      },
      "outputs": [
        {
          "output_type": "stream",
          "name": "stdout",
          "text": [
            "[ 6.10183346  7.88591033 15.61049173  7.45709741  1.34604688  6.96041974\n",
            " 16.9176036   1.01955482  3.28899257 15.2508351 ]\n"
          ]
        }
      ],
      "source": [
        "import numpy as np\n",
        "def distance(P0, P1, p):\n",
        "    T = P1 - P0\n",
        "    L = (T**2).sum(axis=1)\n",
        "    U = -((P0[:,0]-p[...,0])*T[:,0] + (P0[:,1]-p[...,1])*T[:,1]) / L\n",
        "    U = U.reshape(len(U),1)\n",
        "    D = P0 + U*T - p\n",
        "    return np.sqrt((D**2).sum(axis=1))\n",
        "\n",
        "P0 = np.random.uniform(-10,10,(10,2))\n",
        "P1 = np.random.uniform(-10,10,(10,2))\n",
        "p  = np.random.uniform(-10,10,( 1,2))\n",
        "print(distance(P0, P1, p))\n"
      ]
    },
    {
      "cell_type": "markdown",
      "metadata": {
        "id": "GBmkUQKnTisZ"
      },
      "source": [
        "#### 79. Consider 2 sets of points P0,P1 describing lines (2d) and a set of points P, how to compute distance from each point j (P\\[j\\]) to each line i (P0\\[i\\],P1\\[i\\])? (★★★)"
      ]
    },
    {
      "cell_type": "code",
      "execution_count": null,
      "metadata": {
        "id": "iI4kxozVTisa",
        "colab": {
          "base_uri": "https://localhost:8080/"
        },
        "outputId": "ae85eac6-e5ec-4f7d-eeb8-650f92473501"
      },
      "outputs": [
        {
          "output_type": "stream",
          "name": "stdout",
          "text": [
            "[[ 0.47371341  8.95892117  1.14310399  1.98050334  4.68953564  7.33025495\n",
            "   4.13887029  3.42154211  2.63475457  3.25371778]\n",
            " [ 4.46711326 10.22320477  8.35680147  1.88393058  6.79200648 10.6215983\n",
            "  10.2181058   6.87232394  9.26725652 10.54591792]\n",
            " [10.76468839  0.96310581  0.71377083  2.61547869 11.54237275  3.68486379\n",
            "   7.09198127  8.59427346  2.26386827  1.17077851]\n",
            " [ 2.82261766  3.98566091  6.57755639  4.38294104 10.8391108   3.53131262\n",
            "   2.75010375  9.7637445   8.45655346  8.62019746]\n",
            " [10.00893596 21.16524675  8.2597668  15.08884408  8.72551042 17.71913765\n",
            "  10.1692335   9.82652927  7.93983635  5.95428992]\n",
            " [ 1.67915315 11.8577692   3.97477886  6.93353735  0.2732796   9.01694399\n",
            "   3.64912135  1.42402944  2.59937949  1.83843583]\n",
            " [11.59527695 22.17849055  6.87522861 14.79606057  8.91570594 19.1673136\n",
            "  12.11219333  9.65090064  6.77415708  4.53815464]\n",
            " [ 4.16263375 10.96335805  5.38229857  0.44443313  4.95312779 10.60101002\n",
            "   8.98198113  4.65270888  6.35673709  7.56610503]\n",
            " [ 4.96945795 16.48637707  8.42677417 12.46957458  5.1917359  12.71653719\n",
            "   5.34526139  6.96983411  7.4459032   6.22285364]\n",
            " [ 5.0512306  15.77167913  6.13268977 10.59001863  3.66266312 12.57999691\n",
            "   6.15372672  5.16710105  5.18113335  3.92775975]]\n"
          ]
        }
      ],
      "source": [
        "import numpy as np\n",
        "P0 = np.random.uniform(-10,10,(10,2))\n",
        "P1 = np.random.uniform(-10,10,(10,2))\n",
        "q = np.random.uniform(-10,10,(10,2))\n",
        "print(np.array([distance(P0,P1,q_i) for q_i in q ]))\n"
      ]
    },
    {
      "cell_type": "markdown",
      "metadata": {
        "id": "d_YQMlbrTisa"
      },
      "source": [
        "#### 80. Consider an arbitrary array, write a function that extract a subpart with a fixed shape and centered on a given element (pad with a `fill` value when necessary) (★★★) \n",
        "(**hint**: minimum, maximum)"
      ]
    },
    {
      "cell_type": "code",
      "execution_count": null,
      "metadata": {
        "id": "pflvmoIbTisa"
      },
      "outputs": [],
      "source": [
        "import numpy as np\n",
        "Z = np.random.randint(0,10,(10,10))\n",
        "shape = (5,5)\n",
        "fill  = 0\n",
        "position = (1,1)\n",
        "\n",
        "R = np.ones(shape, dtype=Z.dtype)*fill\n",
        "P  = np.array(list(position)).astype(int)\n",
        "Rs = np.array(list(R.shape)).astype(int)\n",
        "Zs = np.array(list(Z.shape)).astype(int)\n",
        "\n",
        "R_start = np.zeros((len(shape),)).astype(int)\n",
        "R_stop  = np.array(list(shape)).astype(int)\n",
        "Z_start = (P-Rs//2)\n",
        "Z_stop  = (P+Rs//2)+Rs%2\n",
        "\n",
        "R_start = (R_start - np.minimum(Z_start,0)).tolist()\n",
        "Z_start = (np.maximum(Z_start,0)).tolist()\n",
        "R_stop = np.maximum(R_start, (R_stop - np.maximum(Z_stop-Zs,0))).tolist()\n",
        "Z_stop = (np.minimum(Z_stop,Zs)).tolist()\n",
        "\n",
        "r = [slice(start,stop) for start,stop in zip(R_start,R_stop)]\n",
        "z = [slice(start,stop) for start,stop in zip(Z_start,Z_stop)]\n",
        "R[r] = Z[z]\n",
        "print(Z)\n",
        "print(R)"
      ]
    },
    {
      "cell_type": "markdown",
      "metadata": {
        "id": "zUlPmmAGTisa"
      },
      "source": [
        "#### 81. Consider an array Z = \\[1,2,3,4,5,6,7,8,9,10,11,12,13,14\\], how to generate an array R = \\[\\[1,2,3,4\\], \\[2,3,4,5\\], \\[3,4,5,6\\], ..., \\[11,12,13,14\\]\\]? (★★★) \n",
        "(**hint**: stride\\_tricks.as\\_strided)"
      ]
    },
    {
      "cell_type": "code",
      "execution_count": null,
      "metadata": {
        "id": "otVSdrI7Tisa"
      },
      "outputs": [],
      "source": [
        "import numpy as np\n",
        "Z = np.arange(1,15,dtype=np.uint32)\n",
        "R = stride_tricks.as_strided(Z,(11,4),(4,4))\n",
        "print(R)"
      ]
    },
    {
      "cell_type": "markdown",
      "metadata": {
        "id": "qncmo1VlTisb"
      },
      "source": [
        "#### 82. Compute a matrix rank (★★★) \n",
        "(**hint**: np.linalg.svd) (suggestion: np.linalg.svd)"
      ]
    },
    {
      "cell_type": "code",
      "execution_count": null,
      "metadata": {
        "id": "MR02KeNwTisb",
        "colab": {
          "base_uri": "https://localhost:8080/"
        },
        "outputId": "e0a8dbc4-b0b9-4460-853c-4dfd10a113c5"
      },
      "outputs": [
        {
          "output_type": "stream",
          "name": "stdout",
          "text": [
            "10\n"
          ]
        }
      ],
      "source": [
        "Z = np.random.uniform(0,1,(10,10))\n",
        "U, S, V = np.linalg.svd(Z) # Singular Value Decomposition\n",
        "rank = np.sum(S > 1e-10)\n",
        "print(rank)"
      ]
    },
    {
      "cell_type": "markdown",
      "metadata": {
        "id": "qiVvanoLTisb"
      },
      "source": [
        "#### 83. How to find the most frequent value in an array? \n",
        "(**hint**: np.bincount, argmax)"
      ]
    },
    {
      "cell_type": "code",
      "execution_count": null,
      "metadata": {
        "id": "aoGzgc5DTisb"
      },
      "outputs": [],
      "source": [
        "import numpy as np\n",
        "Z = np.random.randint(0,10,50)\n",
        "print(np.bincount(Z).argmax())\n"
      ]
    },
    {
      "cell_type": "markdown",
      "metadata": {
        "id": "aJMpCcdKTisb"
      },
      "source": [
        "#### 84. Extract all the contiguous 3x3 blocks from a random 10x10 matrix (★★★) \n",
        "(**hint**: stride\\_tricks.as\\_strided)"
      ]
    },
    {
      "cell_type": "code",
      "execution_count": null,
      "metadata": {
        "id": "_OeoEQ6TTisb"
      },
      "outputs": [],
      "source": [
        "import numpy as np\n",
        "Z = np.random.randint(0,5,(10,10))\n",
        "n = 3\n",
        "i = 1 + (Z.shape[0]-3)\n",
        "j = 1 + (Z.shape[1]-3)\n",
        "C = stride_tricks.as_strided(Z, shape=(i, j, n, n), strides=Z.strides + Z.strides)\n",
        "print(C)"
      ]
    },
    {
      "cell_type": "markdown",
      "metadata": {
        "id": "LnmbwZkXTisc"
      },
      "source": [
        "#### 85. Create a 2D array subclass such that Z\\[i,j\\] == Z\\[j,i\\] (★★★) \n",
        "(**hint**: class method)"
      ]
    },
    {
      "cell_type": "code",
      "execution_count": null,
      "metadata": {
        "id": "eUodPCoYTisc"
      },
      "outputs": [],
      "source": [
        "import numpy as np\n",
        "class Symetric(np.ndarray):\n",
        "    def __setitem__(self, index, value):\n",
        "        i,j = index\n",
        "        super(Symetric, self).__setitem__((i,j), value)\n",
        "        super(Symetric, self).__setitem__((j,i), value)\n",
        "\n",
        "def symetric(Z):\n",
        "    return np.asarray(Z + Z.T - np.diag(Z.diagonal())).view(Symetric)\n",
        "\n",
        "S = symetric(np.random.randint(0,10,(5,5)))\n",
        "S[2,3] = 42 \n",
        "print(S)"
      ]
    },
    {
      "cell_type": "markdown",
      "metadata": {
        "id": "-33u8SH2Tisc"
      },
      "source": [
        "#### 86. Consider a set of p matrices wich shape (n,n) and a set of p vectors with shape (n,1). How to compute the sum of of the p matrix products at once? (result has shape (n,1)) (★★★) \n",
        "(**hint**: np.tensordot)"
      ]
    },
    {
      "cell_type": "code",
      "execution_count": null,
      "metadata": {
        "id": "opF_n0MRTisc"
      },
      "outputs": [],
      "source": [
        "import numpy as np\n",
        "p, n = 10, 20\n",
        "M = np.ones((p,n,n))\n",
        "V = np.ones((p,n,1))\n",
        "S = np.tensordot(M, V, axes=[[0, 2], [0, 1]])\n",
        "print(S)"
      ]
    },
    {
      "cell_type": "markdown",
      "metadata": {
        "id": "CSZwzM83Tisc"
      },
      "source": [
        "#### 87. Consider a 16x16 array, how to get the block-sum (block size is 4x4)? (★★★) \n",
        "(**hint**: np.add.reduceat)"
      ]
    },
    {
      "cell_type": "code",
      "execution_count": null,
      "metadata": {
        "id": "Owj6RGCYTisc"
      },
      "outputs": [],
      "source": [
        "import numpy as np\n",
        "Z = np.ones((16,16))\n",
        "k = 4\n",
        "S = np.add.reduceat(np.add.reduceat(Z, np.arange(0, Z.shape[0], k), axis=0),\n",
        "                    np.arange(0, Z.shape[1], k), axis=1)\n",
        "print(S)"
      ]
    },
    {
      "cell_type": "markdown",
      "metadata": {
        "id": "uctIIj4ZTisc"
      },
      "source": [
        "#### 88. How to implement the Game of Life using numpy arrays? (★★★)"
      ]
    },
    {
      "cell_type": "code",
      "execution_count": null,
      "metadata": {
        "id": "NuuD5IUjTisd"
      },
      "outputs": [],
      "source": [
        "def iterate(Z):\n",
        "    N = (Z[0:-2,0:-2] + Z[0:-2,1:-1] + Z[0:-2,2:] +\n",
        "         Z[1:-1,0:-2]                + Z[1:-1,2:] +\n",
        "         Z[2:  ,0:-2] + Z[2:  ,1:-1] + Z[2:  ,2:])\n",
        "\n",
        "    # Apply rules\n",
        "    birth = (N==3) & (Z[1:-1,1:-1]==0)\n",
        "    survive = ((N==2) | (N==3)) & (Z[1:-1,1:-1]==1)\n",
        "    Z[...] = 0\n",
        "    Z[1:-1,1:-1][birth | survive] = 1\n",
        "    return Z\n",
        "\n",
        "Z = np.random.randint(0,2,(50,50))\n",
        "for i in range(100): Z = iterate(Z)\n",
        "print(Z)"
      ]
    },
    {
      "cell_type": "markdown",
      "metadata": {
        "id": "NYffci6yTisd"
      },
      "source": [
        "#### 89. How to get the n largest values of an array (★★★) \n",
        "(**hint**: np.argsort | np.argpartition)"
      ]
    },
    {
      "cell_type": "code",
      "execution_count": null,
      "metadata": {
        "id": "1wroBI80Tisd",
        "colab": {
          "base_uri": "https://localhost:8080/"
        },
        "outputId": "6ae0847f-d901-42ce-a93e-6cda6554117a"
      },
      "outputs": [
        {
          "output_type": "stream",
          "name": "stdout",
          "text": [
            "[9998 9999 9996 9997 9995]\n"
          ]
        }
      ],
      "source": [
        "Z = np.arange(10000)\n",
        "np.random.shuffle(Z)\n",
        "n = 5\n",
        "print (Z[np.argpartition(-Z,n)[:n]])"
      ]
    },
    {
      "cell_type": "markdown",
      "metadata": {
        "id": "kppsDGpYTisd"
      },
      "source": [
        "#### 90. Given an arbitrary number of vectors, build the cartesian product (every combinations of every item) (★★★) \n",
        "(**hint**: np.indices)"
      ]
    },
    {
      "cell_type": "code",
      "execution_count": null,
      "metadata": {
        "scrolled": true,
        "id": "s1MJHWf9Tisd"
      },
      "outputs": [],
      "source": [
        "def cartesian(arrays):\n",
        "    arrays = [np.asarray(a) for a in arrays]\n",
        "    shape = (len(x) for x in arrays)\n",
        "\n",
        "    ix = np.indices(shape, dtype=int)\n",
        "    ix = ix.reshape(len(arrays), -1).T\n",
        "\n",
        "    for n, arr in enumerate(arrays):\n",
        "        ix[:, n] = arrays[n][ix[:, n]]\n",
        "\n",
        "    return ix\n",
        "\n",
        "print (cartesian(([1, 2, 3], [4, 5], [6, 7])))\n"
      ]
    },
    {
      "cell_type": "markdown",
      "metadata": {
        "id": "93mMvf4CTisd"
      },
      "source": [
        "#### 91. How to create a record array from a regular array? (★★★) \n",
        "(**hint**: np.core.records.fromarrays)"
      ]
    },
    {
      "cell_type": "code",
      "execution_count": null,
      "metadata": {
        "id": "-oE7BS9YTisd"
      },
      "outputs": [],
      "source": [
        "Z = np.array([(\"Hello\", 2.5, 3),\n",
        "              (\"World\", 3.6, 2)])\n",
        "R = np.core.records.fromarrays(Z.T, names='col1, col2, col3',\n",
        "              formats = 'S8, f8, i8')\n",
        "print(R)"
      ]
    },
    {
      "cell_type": "markdown",
      "metadata": {
        "id": "_OSSANrMTise"
      },
      "source": [
        "#### 92. Consider a large vector Z, compute Z to the power of 3 using 3 different methods (★★★) \n",
        "(**hint**: np.power, \\*, np.einsum)"
      ]
    },
    {
      "cell_type": "code",
      "execution_count": null,
      "metadata": {
        "id": "F0sYxJOmTise",
        "colab": {
          "base_uri": "https://localhost:8080/"
        },
        "outputId": "fe1b5060-df4e-43d2-fa93-c82d8c733bcd"
      },
      "outputs": [
        {
          "output_type": "stream",
          "name": "stdout",
          "text": [
            "2.13 s ± 9.78 ms per loop (mean ± std. dev. of 7 runs, 1 loop each)\n",
            "88.2 ms ± 22 ms per loop (mean ± std. dev. of 7 runs, 10 loops each)\n",
            "90.3 ms ± 13.4 ms per loop (mean ± std. dev. of 7 runs, 10 loops each)\n"
          ]
        }
      ],
      "source": [
        "import numpy as np\n",
        "x = np.random.rand(int(5e7))\n",
        "\n",
        "%timeit np.power(x,3)\n",
        "%timeit x*x*x\n",
        "%timeit np.einsum('i,i,i->i',x,x,x)"
      ]
    },
    {
      "cell_type": "markdown",
      "metadata": {
        "id": "6ISk9db2Tise"
      },
      "source": [
        "#### 93. Consider two arrays A and B of shape (8,3) and (2,2). How to find rows of A that contain elements of each row of B regardless of the order of the elements in B? (★★★) \n",
        "(**hint**: np.where)"
      ]
    },
    {
      "cell_type": "code",
      "execution_count": null,
      "metadata": {
        "id": "PRHm_ozGTise",
        "colab": {
          "base_uri": "https://localhost:8080/"
        },
        "outputId": "592ee04d-0d16-40ab-fc45-6b6fef3f813d"
      },
      "outputs": [
        {
          "output_type": "stream",
          "name": "stdout",
          "text": [
            "[0 3 4 5 6 7]\n"
          ]
        }
      ],
      "source": [
        "A = np.random.randint(0,5,(8,3))\n",
        "B = np.random.randint(0,5,(2,2))\n",
        "\n",
        "C = (A[..., np.newaxis, np.newaxis] == B)\n",
        "rows = np.where(C.any((3,1)).all(1))[0]\n",
        "print(rows)"
      ]
    },
    {
      "cell_type": "markdown",
      "metadata": {
        "id": "5VF45ulrTise"
      },
      "source": [
        "#### 94. Considering a 10x3 matrix, extract rows with unequal values (e.g. \\[2,2,3\\]) (★★★)"
      ]
    },
    {
      "cell_type": "code",
      "execution_count": null,
      "metadata": {
        "id": "5Uxau1TMTise"
      },
      "outputs": [],
      "source": [
        "Z = np.random.randint(0,5,(10,3))\n",
        "print(Z)\n",
        "\n"
      ]
    },
    {
      "cell_type": "markdown",
      "metadata": {
        "id": "z6AVHrWaTise"
      },
      "source": [
        "#### 95. Convert a vector of ints into a matrix binary representation (★★★) \n",
        "(**hint**: np.unpackbits)"
      ]
    },
    {
      "cell_type": "code",
      "execution_count": null,
      "metadata": {
        "id": "8qnpkIVYTisf",
        "colab": {
          "base_uri": "https://localhost:8080/"
        },
        "outputId": "b8fc792d-6aff-4837-f0f2-b7199a22a7ab"
      },
      "outputs": [
        {
          "output_type": "stream",
          "name": "stdout",
          "text": [
            "[[0 0 0 0 0 0 0 0]\n",
            " [0 0 0 0 0 0 0 1]\n",
            " [0 0 0 0 0 0 1 0]\n",
            " [0 0 0 0 0 0 1 1]\n",
            " [0 0 0 0 1 1 1 1]\n",
            " [0 0 0 1 0 0 0 0]\n",
            " [0 0 1 0 0 0 0 0]\n",
            " [0 1 0 0 0 0 0 0]\n",
            " [1 0 0 0 0 0 0 0]]\n"
          ]
        }
      ],
      "source": [
        "I = np.array([0, 1, 2, 3, 15, 16, 32, 64, 128], dtype=np.uint8)\n",
        "print(np.unpackbits(I[:, np.newaxis], axis=1))"
      ]
    },
    {
      "cell_type": "markdown",
      "metadata": {
        "id": "KGVkz4MjTisf"
      },
      "source": [
        "#### 96. Given a two dimensional array, how to extract unique rows? (★★★) \n",
        "(**hint**: np.ascontiguousarray)"
      ]
    },
    {
      "cell_type": "code",
      "execution_count": null,
      "metadata": {
        "id": "zZ0ytnVITisf",
        "colab": {
          "base_uri": "https://localhost:8080/"
        },
        "outputId": "0096ea5f-76d7-45df-aee0-b569077cd0c8"
      },
      "outputs": [
        {
          "output_type": "stream",
          "name": "stdout",
          "text": [
            "[[0 0 0]\n",
            " [0 0 1]\n",
            " [0 1 0]\n",
            " [0 1 1]\n",
            " [1 0 1]\n",
            " [1 1 0]]\n"
          ]
        }
      ],
      "source": [
        "Z = np.random.randint(0,2,(6,3))\n",
        "T = np.ascontiguousarray(Z).view(np.dtype((np.void, Z.dtype.itemsize * Z.shape[1])))\n",
        "_, idx = np.unique(T, return_index=True)\n",
        "uZ = Z[idx]\n",
        "print(uZ)"
      ]
    },
    {
      "cell_type": "markdown",
      "metadata": {
        "id": "IhtIgaVlTisf"
      },
      "source": [
        "#### 97. Considering 2 vectors A & B, write the einsum equivalent of inner, outer, sum, and mul function (★★★) \n",
        "(**hint**: np.einsum)"
      ]
    },
    {
      "cell_type": "code",
      "execution_count": null,
      "metadata": {
        "id": "YaH4DUvQTisf"
      },
      "outputs": [],
      "source": [
        "A = np.random.uniform(0,1,10)\n",
        "B = np.random.uniform(0,1,10)\n",
        "\n",
        "np.einsum('i->', A)       # np.sum(A)\n",
        "np.einsum('i,i->i', A, B) # A * B\n",
        "np.einsum('i,i', A, B)    # np.inner(A, B)\n",
        "np.einsum('i,j->ij', A, B) "
      ]
    },
    {
      "cell_type": "markdown",
      "metadata": {
        "id": "xjepgKNuTisg"
      },
      "source": [
        "#### 98. Considering a path described by two vectors (X,Y), how to sample it using equidistant samples (★★★)? \n",
        "(**hint**: np.cumsum, np.interp)"
      ]
    },
    {
      "cell_type": "code",
      "execution_count": null,
      "metadata": {
        "collapsed": true,
        "id": "0YGChiE2Tisg"
      },
      "outputs": [],
      "source": [
        "phi = np.arange(0, 10*np.pi, 0.1)\n",
        "a = 1\n",
        "x = a*phi*np.cos(phi)\n",
        "y = a*phi*np.sin(phi)\n",
        "\n",
        "dr = (np.diff(x)**2 + np.diff(y)**2)**.5 \n",
        "r = np.zeros_like(x)\n",
        "r[1:] = np.cumsum(dr)                # integrate path\n",
        "r_int = np.linspace(0, r.max(), 200) # regular spaced path\n",
        "x_int = np.interp(r_int, r, x)       # integrate path\n",
        "y_int = np.interp(r_int, r, y)"
      ]
    },
    {
      "cell_type": "markdown",
      "metadata": {
        "id": "5Szpu_WITisg"
      },
      "source": [
        "#### 99. Given an integer n and a 2D array X, select from X the rows which can be interpreted as draws from a multinomial distribution with n degrees, i.e., the rows which only contain integers and which sum to n. (★★★) \n",
        "(**hint**: np.logical\\_and.reduce, np.mod)"
      ]
    },
    {
      "cell_type": "code",
      "execution_count": null,
      "metadata": {
        "id": "mh5uc6uaTisg",
        "colab": {
          "base_uri": "https://localhost:8080/"
        },
        "outputId": "ead8fbc5-3219-4600-f970-5a9152c32162"
      },
      "outputs": [
        {
          "output_type": "stream",
          "name": "stdout",
          "text": [
            "[[2. 0. 1. 1.]]\n"
          ]
        }
      ],
      "source": [
        "X = np.asarray([[1.0, 0.0, 3.0, 8.0],\n",
        "                [2.0, 0.0, 1.0, 1.0],\n",
        "                [1.5, 2.5, 1.0, 0.0]])\n",
        "n = 4\n",
        "M = np.logical_and.reduce(np.mod(X, 1) == 0, axis=-1)\n",
        "M &= (X.sum(axis=-1) == n)\n",
        "print(X[M])"
      ]
    },
    {
      "cell_type": "markdown",
      "metadata": {
        "id": "gGF9yngtTisg"
      },
      "source": [
        "#### 100. Compute bootstrapped 95% confidence intervals for the mean of a 1D array X (i.e., resample the elements of an array with replacement N times, compute the mean of each sample, and then compute percentiles over the means). (★★★) \n",
        "(**hint**: np.percentile)"
      ]
    },
    {
      "cell_type": "code",
      "execution_count": null,
      "metadata": {
        "id": "Y05rBSKzTisg",
        "colab": {
          "base_uri": "https://localhost:8080/"
        },
        "outputId": "f0c4c355-07a0-47b5-b462-9e9a1b537214"
      },
      "outputs": [
        {
          "output_type": "stream",
          "name": "stdout",
          "text": [
            "[-0.30841625  0.07100802]\n"
          ]
        }
      ],
      "source": [
        "\n",
        "X = np.random.randn(100) \n",
        "sample = 1000 \n",
        "idx = np.random.randint(0, X.size, (sample, X.size))\n",
        "means = X[idx].mean(axis=1)\n",
        "confint = np.percentile(means, [2.5, 97.5])\n",
        "print(confint)"
      ]
    }
  ],
  "metadata": {
    "kernelspec": {
      "display_name": "Python 3",
      "language": "python",
      "name": "python3"
    },
    "language_info": {
      "codemirror_mode": {
        "name": "ipython",
        "version": 3
      },
      "file_extension": ".py",
      "mimetype": "text/x-python",
      "name": "python",
      "nbconvert_exporter": "python",
      "pygments_lexer": "ipython3",
      "version": "3.8.3"
    },
    "colab": {
      "provenance": [],
      "collapsed_sections": []
    }
  },
  "nbformat": 4,
  "nbformat_minor": 0
}